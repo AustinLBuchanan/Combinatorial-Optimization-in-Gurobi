{
 "cells": [
  {
   "cell_type": "code",
   "execution_count": 1,
   "id": "9e7ae343-12ae-47e1-876c-659cc12ebfee",
   "metadata": {},
   "outputs": [],
   "source": [
    "import gurobipy as gp\n",
    "from gurobipy import GRB "
   ]
  },
  {
   "cell_type": "code",
   "execution_count": 2,
   "id": "2e8fb6d0-e52d-4197-b703-9b478708a8e0",
   "metadata": {},
   "outputs": [
    {
     "name": "stdout",
     "output_type": "stream",
     "text": [
      "Number of items: 4\n",
      "Budget available: 7\n"
     ]
    }
   ],
   "source": [
    "# Input data\n",
    "c = [9, 8, 5, 4]\n",
    "a = [3, 3, 2, 2]\n",
    "b = 7\n",
    "n = len(c)\n",
    "\n",
    "print(\"Number of items:\",n)\n",
    "print(\"Budget available:\",b)"
   ]
  },
  {
   "cell_type": "code",
   "execution_count": 3,
   "id": "fd00d3ff-669c-43ac-9169-1bf45ed2ed21",
   "metadata": {},
   "outputs": [
    {
     "name": "stdout",
     "output_type": "stream",
     "text": [
      "Academic license - for non-commercial use only - expires 2021-07-26\n",
      "Using license file C:\\Users\\Austin\\gurobi.lic\n",
      "Gurobi Optimizer version 9.1.2 build v9.1.2rc0 (win64)\n",
      "Thread count: 2 physical cores, 4 logical processors, using up to 4 threads\n",
      "Optimize a model with 1 rows, 4 columns and 4 nonzeros\n",
      "Model fingerprint: 0x026bddeb\n",
      "Variable types: 0 continuous, 4 integer (4 binary)\n",
      "Coefficient statistics:\n",
      "  Matrix range     [2e+00, 3e+00]\n",
      "  Objective range  [4e+00, 9e+00]\n",
      "  Bounds range     [1e+00, 1e+00]\n",
      "  RHS range        [7e+00, 7e+00]\n",
      "Found heuristic solution: objective 17.0000000\n",
      "Presolve removed 1 rows and 4 columns\n",
      "Presolve time: 0.01s\n",
      "Presolve: All rows and columns removed\n",
      "\n",
      "Explored 0 nodes (0 simplex iterations) in 0.06 seconds\n",
      "Thread count was 1 (of 4 available processors)\n",
      "\n",
      "Solution count 2: 18 17 \n",
      "\n",
      "Optimal solution found (tolerance 1.00e-04)\n",
      "Best objective 1.800000000000e+01, best bound 1.800000000000e+01, gap 0.0000%\n"
     ]
    }
   ],
   "source": [
    "# Create model object\n",
    "m = gp.Model()\n",
    "\n",
    "# Create variables\n",
    "x = m.addVars(range(n), vtype=GRB.BINARY)\n",
    "\n",
    "# Objective function\n",
    "m.setObjective( gp.quicksum( c[i]*x[i] for i in range(n) ), GRB.MAXIMIZE )\n",
    "\n",
    "# Budget constraint\n",
    "m.addConstr( gp.quicksum( a[i]*x[i] for i in range(n) ) <= b )\n",
    "\n",
    "# Solve\n",
    "m.optimize()"
   ]
  },
  {
   "cell_type": "code",
   "execution_count": 4,
   "id": "97564a2b-f255-4120-bb72-b5b489d1eaa9",
   "metadata": {},
   "outputs": [
    {
     "name": "stdout",
     "output_type": "stream",
     "text": [
      "Objective value: 18.0\n",
      "Select these items: [0, 2, 3]\n"
     ]
    }
   ],
   "source": [
    "print(\"Objective value:\",m.objVal)\n",
    "\n",
    "selected_items = [ i for i in range(n) if x[i].x > 0.5 ]\n",
    "\n",
    "# NOTE: x[i].x is a floating point value, \n",
    "#    e.g., as 0.999999999 or 1.00000001\n",
    "# This is why we check the weaker condition \"is x[i].x > 0.5? \"\n",
    "\n",
    "print(\"Select these items:\",selected_items)"
   ]
  },
  {
   "cell_type": "code",
   "execution_count": 5,
   "id": "5abe15da-6d48-4901-a767-b7cf417540fb",
   "metadata": {},
   "outputs": [
    {
     "name": "stdout",
     "output_type": "stream",
     "text": [
      "Gurobi Optimizer version 9.1.2 build v9.1.2rc0 (win64)\n",
      "Thread count: 2 physical cores, 4 logical processors, using up to 4 threads\n",
      "Optimize a model with 1 rows, 4 columns and 4 nonzeros\n",
      "Model fingerprint: 0x2b9c16b8\n",
      "Coefficient statistics:\n",
      "  Matrix range     [2e+00, 3e+00]\n",
      "  Objective range  [4e+00, 9e+00]\n",
      "  Bounds range     [1e+00, 1e+00]\n",
      "  RHS range        [7e+00, 7e+00]\n",
      "Presolve time: 0.02s\n",
      "Presolved: 1 rows, 4 columns, 4 nonzeros\n",
      "\n",
      "Iteration    Objective       Primal Inf.    Dual Inf.      Time\n",
      "       0    2.1000000e+01   1.333333e+00   0.000000e+00      0s\n",
      "       1    1.9500000e+01   0.000000e+00   0.000000e+00      0s\n",
      "\n",
      "Solved in 1 iterations and 0.04 seconds\n",
      "Optimal objective  1.950000000e+01\n"
     ]
    }
   ],
   "source": [
    "# Out of curiousity, what is the root LP bound?\n",
    "\n",
    "# Create LP relaxation model and solve it\n",
    "r = m.relax()\n",
    "r.optimize()"
   ]
  },
  {
   "cell_type": "code",
   "execution_count": null,
   "id": "7295827d-236e-428d-a26b-1f65a98e4d83",
   "metadata": {},
   "outputs": [],
   "source": []
  }
 ],
 "metadata": {
  "kernelspec": {
   "display_name": "Python 3",
   "language": "python",
   "name": "python3"
  },
  "language_info": {
   "codemirror_mode": {
    "name": "ipython",
    "version": 3
   },
   "file_extension": ".py",
   "mimetype": "text/x-python",
   "name": "python",
   "nbconvert_exporter": "python",
   "pygments_lexer": "ipython3",
   "version": "3.8.10"
  }
 },
 "nbformat": 4,
 "nbformat_minor": 5
}
