{
 "cells": [
  {
   "cell_type": "code",
   "execution_count": 1,
   "id": "8c9284fc-76da-4ac8-a656-d2dff7e03e4c",
   "metadata": {},
   "outputs": [],
   "source": [
    "# Below is a symmetric TSP instance from: \n",
    "#   http://comopt.ifi.uni-heidelberg.de/software/TSPLIB95/\n",
    "\n",
    "bays29 = [[0,107,241,190,124,80,316,76,152,157,283,133,113,297,228,129,348,276,188,150,65,341,184,67,221,169,108,45,167],\n",
    "[107,0,148,137,88,127,336,183,134,95,254,180,101,234,175,176,265,199,182,67,42,278,271,146,251,105,191,139,79],\n",
    "[241,148,0,374,171,259,509,317,217,232,491,312,280,391,412,349,422,356,355,204,182,435,417,292,424,116,337,273,77],\n",
    "[190,137,374,0,202,234,222,192,248,42,117,287,79,107,38,121,152,86,68,70,137,151,239,135,137,242,165,228,205],\n",
    "[124,88,171,202,0,61,392,202,46,160,319,112,163,322,240,232,314,287,238,155,65,366,300,175,307,57,220,121,97],\n",
    "[80,127,259,234,61,0,386,141,72,167,351,55,157,331,272,226,362,296,232,164,85,375,249,147,301,118,188,60,185],\n",
    "[316,336,509,222,392,386,0,233,438,254,202,439,235,254,210,187,313,266,154,282,321,298,168,249,95,437,190,314,435],\n",
    "[76,183,317,192,202,141,233,0,213,188,272,193,131,302,233,98,344,289,177,216,141,346,108,57,190,245,43,81,243],\n",
    "[152,134,217,248,46,72,438,213,0,206,365,89,209,368,286,278,360,333,284,201,111,412,321,221,353,72,266,132,111],\n",
    "[157,95,232,42,160,167,254,188,206,0,159,220,57,149,80,132,193,127,100,28,95,193,241,131,169,200,161,189,163],\n",
    "[283,254,491,117,319,351,202,272,365,159,0,404,176,106,79,161,165,141,95,187,254,103,279,215,117,359,216,308,322],\n",
    "[133,180,312,287,112,55,439,193,89,220,404,0,210,384,325,279,415,349,285,217,138,428,310,200,354,169,241,112,238],\n",
    "[113,101,280,79,163,157,235,131,209,57,176,210,0,186,117,75,231,165,81,85,92,230,184,74,150,208,104,158,206],\n",
    "[297,234,391,107,322,331,254,302,368,149,106,384,186,0,69,191,59,35,125,167,255,44,309,245,169,327,246,335,288],\n",
    "[228,175,412,38,240,272,210,233,286,80,79,325,117,69,0,122,122,56,56,108,175,113,240,176,125,280,177,266,243],\n",
    "[129,176,349,121,232,226,187,98,278,132,161,279,75,191,122,0,244,178,66,160,161,235,118,62,92,277,55,155,275],\n",
    "[348,265,422,152,314,362,313,344,360,193,165,415,231,59,122,244,0,66,178,198,286,77,362,287,228,358,299,380,319],\n",
    "[276,199,356,86,287,296,266,289,333,127,141,349,165,35,56,178,66,0,112,132,220,79,296,232,181,292,233,314,253],\n",
    "[188,182,355,68,238,232,154,177,284,100,95,285,81,125,56,66,178,112,0,128,167,169,179,120,69,283,121,213,281],\n",
    "[150,67,204,70,155,164,282,216,201,28,187,217,85,167,108,160,198,132,128,0,88,211,269,159,197,172,189,182,135],\n",
    "[65,42,182,137,65,85,321,141,111,95,254,138,92,255,175,161,286,220,167,88,0,299,229,104,236,110,149,97,108],\n",
    "[341,278,435,151,366,375,298,346,412,193,103,428,230,44,113,235,77,79,169,211,299,0,353,289,213,371,290,379,332],\n",
    "[184,271,417,239,300,249,168,108,321,241,279,310,184,309,240,118,362,296,179,269,229,353,0,121,162,345,80,189,342],\n",
    "[67,146,292,135,175,147,249,57,221,131,215,200,74,245,176,62,287,232,120,159,104,289,121,0,154,220,41,93,218],\n",
    "[221,251,424,137,307,301,95,190,353,169,117,354,150,169,125,92,228,181,69,197,236,213,162,154,0,352,147,247,350],\n",
    "[169,105,116,242,57,118,437,245,72,200,359,169,208,327,280,277,358,292,283,172,110,371,345,220,352,0,265,178,39],\n",
    "[108,191,337,165,220,188,190,43,266,161,216,241,104,246,177,55,299,233,121,189,149,290,80,41,147,265,0,124,263],\n",
    "[45,139,273,228,121,60,314,81,132,189,308,112,158,335,266,155,380,314,213,182,97,379,189,93,247,178,124,0,199],\n",
    "[167,79,77,205,97,185,435,243,111,163,322,238,206,288,243,275,319,253,281,135,108,332,342,218,350,39,263,199,0]]"
   ]
  },
  {
   "cell_type": "code",
   "execution_count": 2,
   "id": "74615581-547a-4f9a-b1ee-e2e6bfbb39c7",
   "metadata": {},
   "outputs": [],
   "source": [
    "c = bays29\n",
    "n = len(c)\n",
    "\n",
    "import networkx as nx\n",
    "\n",
    "# Complete graph on n vertices\n",
    "G = nx.complete_graph(n)\n",
    "\n",
    "# DG is directed version of G. Replaces each edge {i,j} by (i,j) and (j,i)\n",
    "DG = nx.DiGraph(G)"
   ]
  },
  {
   "cell_type": "code",
   "execution_count": 3,
   "id": "3d81cb71-7d75-45f8-8a07-8a1fe6251c5c",
   "metadata": {},
   "outputs": [],
   "source": [
    "import gurobipy as gp\n",
    "from gurobipy import GRB"
   ]
  },
  {
   "cell_type": "code",
   "execution_count": 4,
   "id": "0e765070-ed1f-44f5-a8df-298ae41030d8",
   "metadata": {},
   "outputs": [
    {
     "name": "stdout",
     "output_type": "stream",
     "text": [
      "Academic license - for non-commercial use only - expires 2021-07-26\n",
      "Using license file C:\\Users\\Austin\\gurobi.lic\n",
      "Gurobi Optimizer version 9.1.2 build v9.1.2rc0 (win64)\n",
      "Thread count: 2 physical cores, 4 logical processors, using up to 4 threads\n",
      "Optimize a model with 842 rows, 841 columns and 3976 nonzeros\n",
      "Model fingerprint: 0xc0decdbf\n",
      "Variable types: 29 continuous, 812 integer (812 binary)\n",
      "Coefficient statistics:\n",
      "  Matrix range     [1e+00, 3e+01]\n",
      "  Objective range  [3e+01, 5e+02]\n",
      "  Bounds range     [1e+00, 1e+00]\n",
      "  RHS range        [1e+00, 3e+01]\n",
      "Presolve removed 0 rows and 1 columns\n",
      "Presolve time: 0.06s\n",
      "Presolved: 842 rows, 840 columns, 3948 nonzeros\n",
      "Variable types: 28 continuous, 812 integer (812 binary)\n",
      "\n",
      "Root relaxation: objective 1.774690e+03, 114 iterations, 0.01 seconds\n",
      "\n",
      "    Nodes    |    Current Node    |     Objective Bounds      |     Work\n",
      " Expl Unexpl |  Obj  Depth IntInf | Incumbent    BestBd   Gap | It/Node Time\n",
      "\n",
      "     0     0 1774.68966    0   44          - 1774.68966      -     -    0s\n",
      "     0     0 1924.00000    0   50          - 1924.00000      -     -    0s\n",
      "     0     0 1927.00000    0   54          - 1927.00000      -     -    0s\n",
      "     0     0 1927.00000    0   54          - 1927.00000      -     -    0s\n",
      "     0     0 1927.00000    0   54          - 1927.00000      -     -    0s\n",
      "     0     0 1927.00000    0   54          - 1927.00000      -     -    0s\n",
      "H    0     0                    5979.0000000 1927.00000  67.8%     -    1s\n",
      "H    0     0                    3948.0000000 1929.34483  51.1%     -    1s\n",
      "     0     2 1929.34483    0   54 3948.00000 1929.34483  51.1%     -    1s\n",
      "H   29    32                    3772.0000000 1929.34483  48.9%  10.0    1s\n",
      "H   30    32                    2849.0000000 1929.34483  32.3%   9.9    1s\n",
      "H   61    66                    2831.0000000 1929.34483  31.8%   8.2    1s\n",
      "H   78    81                    2596.0000000 1929.34483  25.7%   8.3    2s\n",
      "H   91    93                    2582.0000000 1929.34483  25.3%   8.5    2s\n",
      "H  128   128                    2555.0000000 1929.34483  24.5%   8.4    2s\n",
      "H  328   283                    2530.0000000 1929.34483  23.7%   6.9    2s\n",
      "H  742   437                    2244.9999448 1929.34483  14.1%   6.2    3s\n",
      "   755   427 2052.00000   39    8 2244.99994 1974.50000  12.0%   6.1    5s\n",
      "H  771   415                    2155.0000000 1987.00476  7.80%   6.0    6s\n",
      "   796   432 2002.34483    8   36 2155.00000 1987.00476  7.80%   7.6   10s\n",
      "H  831   435                    2134.0000000 1988.46686  6.82%   8.9   11s\n",
      "H  919   461                    2126.0000000 1988.46686  6.47%   9.7   12s\n",
      "H  930   454                    2092.0000000 1988.46686  4.95%   9.7   12s\n",
      "*  947   449              47    2020.0000000 1988.46686  1.56%   9.8   12s\n",
      "\n",
      "Cutting planes:\n",
      "  Learned: 9\n",
      "  Gomory: 7\n",
      "  MIR: 16\n",
      "  Flow cover: 48\n",
      "  Inf proof: 3\n",
      "  Zero half: 7\n",
      "\n",
      "Explored 1684 nodes (16797 simplex iterations) in 13.36 seconds\n",
      "Thread count was 4 (of 4 available processors)\n",
      "\n",
      "Solution count 10: 2020 2092 2126 ... 2596\n",
      "\n",
      "Optimal solution found (tolerance 1.00e-04)\n",
      "Best objective 2.020000000000e+03, best bound 2.020000000000e+03, gap 0.0000%\n"
     ]
    }
   ],
   "source": [
    "# Create model object\n",
    "m = gp.Model()\n",
    "\n",
    "# Create variable for each edge of DG\n",
    "x = m.addVars( DG.edges, vtype=GRB.BINARY )\n",
    "\n",
    "# Create variable for each vertex of DG\n",
    "u = m.addVars( DG.nodes )\n",
    "\n",
    "# Objective function: minimize cost of tour\n",
    "m.setObjective( gp.quicksum( c[i][j] * x[i,j] for i,j in DG.edges ), GRB.MINIMIZE )\n",
    "\n",
    "# Leave each city once\n",
    "m.addConstrs( gp.quicksum( x[i,j] for j in DG.neighbors(i) ) == 1 for i in DG.nodes )\n",
    "\n",
    "# Enter each city once\n",
    "m.addConstrs( gp.quicksum( x[i,j] for i in DG.neighbors(j) ) == 1 for j in DG.nodes )\n",
    "\n",
    "# (original) MTZ constraints to eliminate cycles\n",
    "m.addConstrs( u[i] - u[j] + n * x[i,j] <= n - 1 for i,j in DG.edges if j != 0 )\n",
    "\n",
    "# Solve\n",
    "m.optimize()"
   ]
  },
  {
   "cell_type": "code",
   "execution_count": 5,
   "id": "5fefb288-40e0-470d-b8e0-0b41ea9df402",
   "metadata": {},
   "outputs": [
    {
     "name": "stdout",
     "output_type": "stream",
     "text": [
      "Objective: 2020.0\n",
      "Tour: [2, 1, 19, 9, 3, 14, 17, 16, 13, 21, 10, 18, 24, 6, 22, 26, 7, 23, 15, 12, 20, 0, 27, 5, 11, 8, 4, 25, 28]\n"
     ]
    }
   ],
   "source": [
    "print(\"Objective:\",m.objVal)\n",
    "\n",
    "tour_edges = [ (i,j) for i,j in DG.edges if x[i,j].x > 0.5 ]\n",
    "\n",
    "# Get a tour by picking a chosen edge (t,s) and \n",
    "#   finding a shortest s,t-path in G[chosen_edges\\(t,s)]\n",
    "\n",
    "(t,s) = tour_edges.pop()\n",
    "\n",
    "paths = nx.single_source_shortest_path( G.edge_subgraph(tour_edges), s )\n",
    "\n",
    "print(\"Tour:\",paths[t])"
   ]
  },
  {
   "cell_type": "code",
   "execution_count": null,
   "id": "c16ba329-173b-470d-b40d-cb52c6e58fbf",
   "metadata": {},
   "outputs": [],
   "source": []
  }
 ],
 "metadata": {
  "kernelspec": {
   "display_name": "Python 3",
   "language": "python",
   "name": "python3"
  },
  "language_info": {
   "codemirror_mode": {
    "name": "ipython",
    "version": 3
   },
   "file_extension": ".py",
   "mimetype": "text/x-python",
   "name": "python",
   "nbconvert_exporter": "python",
   "pygments_lexer": "ipython3",
   "version": "3.8.10"
  }
 },
 "nbformat": 4,
 "nbformat_minor": 5
}
