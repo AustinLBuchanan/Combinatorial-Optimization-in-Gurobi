{
 "cells": [
  {
   "cell_type": "code",
   "execution_count": 1,
   "metadata": {},
   "outputs": [],
   "source": [
    "import gurobipy as gp\n",
    "from gurobipy import GRB\n",
    "import random"
   ]
  },
  {
   "cell_type": "code",
   "execution_count": 2,
   "metadata": {},
   "outputs": [],
   "source": [
    "# Solve random knapsack instances, where \n",
    "#   n = number of items\n",
    "#   v_max = largest objective coefficient\n",
    "#   w_max = largest coefficient in knapsack\n",
    "#\n",
    "def solve_random_knapsack(n, v_max, w_max, verbose=False):\n",
    "    \n",
    "    # create model object\n",
    "    m = gp.Model()\n",
    "    \n",
    "    # print solve info to screen?\n",
    "    m.Params.OutputFlag = verbose\n",
    "    \n",
    "    # x[i]=1 if item i is select in knapsack\n",
    "    x = m.addVars(n, vtype=GRB.BINARY)\n",
    "    \n",
    "    # objective is to maximize the value of selected items\n",
    "    v = [ random.randint(1,v_max) for i in range(n) ]\n",
    "    m.setObjective( gp.quicksum( v[i]*x[i] for i in range(n) ), GRB.MAXIMIZE )\n",
    "    \n",
    "    # constraint: don't exceed knapsack capacity\n",
    "    w = [ random.randint(1,w_max) for i in range(n) ]\n",
    "    W = sum(w) / 10\n",
    "    m.addConstr( gp.quicksum( w[i]*x[i] for i in range(n) ) <= W )\n",
    "    \n",
    "    # solve\n",
    "    m.optimize()\n",
    "    \n",
    "    if verbose:\n",
    "        sol = [ i for i in range(n) if x[i].x > 0.5 ]\n",
    "        print(\"pick these items =\",sol)\n",
    "    \n",
    "    # return running time\n",
    "    return m.runtime"
   ]
  },
  {
   "cell_type": "code",
   "execution_count": 3,
   "metadata": {},
   "outputs": [
    {
     "name": "stdout",
     "output_type": "stream",
     "text": [
      "Set parameter Username\n",
      "Academic license - for non-commercial use only - expires 2024-05-11\n",
      "Gurobi Optimizer version 10.0.1 build v10.0.1rc0 (win64)\n",
      "\n",
      "CPU model: Intel(R) Core(TM) i7-4790 CPU @ 3.60GHz, instruction set [SSE2|AVX|AVX2]\n",
      "Thread count: 4 physical cores, 8 logical processors, using up to 8 threads\n",
      "\n",
      "Optimize a model with 1 rows, 100 columns and 100 nonzeros\n",
      "Model fingerprint: 0x8c1f026a\n",
      "Variable types: 0 continuous, 100 integer (100 binary)\n",
      "Coefficient statistics:\n",
      "  Matrix range     [2e+00, 1e+03]\n",
      "  Objective range  [2e+01, 1e+03]\n",
      "  Bounds range     [1e+00, 1e+00]\n",
      "  RHS range        [5e+03, 5e+03]\n",
      "Found heuristic solution: objective 5881.0000000\n",
      "Presolve time: 0.00s\n",
      "Presolved: 1 rows, 100 columns, 100 nonzeros\n",
      "Variable types: 0 continuous, 100 integer (100 binary)\n",
      "Found heuristic solution: objective 17217.000000\n",
      "\n",
      "Root relaxation: objective 1.816897e+04, 1 iterations, 0.00 seconds (0.00 work units)\n",
      "\n",
      "    Nodes    |    Current Node    |     Objective Bounds      |     Work\n",
      " Expl Unexpl |  Obj  Depth IntInf | Incumbent    BestBd   Gap | It/Node Time\n",
      "\n",
      "     0     0 18168.9691    0    1 17217.0000 18168.9691  5.53%     -    0s\n",
      "H    0     0                    18065.000000 18168.9691  0.58%     -    0s\n",
      "\n",
      "Cutting planes:\n",
      "  Cover: 1\n",
      "  Clique: 1\n",
      "  MIR: 1\n",
      "  StrongCG: 1\n",
      "\n",
      "Explored 1 nodes (1 simplex iterations) in 0.45 seconds (0.00 work units)\n",
      "Thread count was 8 (of 8 available processors)\n",
      "\n",
      "Solution count 3: 18065 17217 5881 \n",
      "\n",
      "Optimal solution found (tolerance 1.00e-04)\n",
      "Best objective 1.806500000000e+04, best bound 1.806500000000e+04, gap 0.0000%\n",
      "pick these items = [6, 10, 18, 23, 25, 26, 28, 37, 38, 40, 41, 46, 49, 53, 54, 58, 62, 70, 73, 74, 79, 82, 90, 96, 97, 99]\n"
     ]
    },
    {
     "data": {
      "text/plain": [
       "0.45800018310546875"
      ]
     },
     "execution_count": 3,
     "metadata": {},
     "output_type": "execute_result"
    }
   ],
   "source": [
    "solve_random_knapsack(100, v_max=1000, w_max=1000, verbose=True)"
   ]
  },
  {
   "cell_type": "code",
   "execution_count": 4,
   "metadata": {},
   "outputs": [
    {
     "name": "stdout",
     "output_type": "stream",
     "text": [
      "n runtime\n",
      "2 0.00\n",
      "4 0.00\n",
      "8 0.00\n",
      "16 0.00\n",
      "32 0.00\n",
      "64 0.00\n",
      "128 0.00\n",
      "256 0.35\n",
      "512 0.41\n",
      "1024 0.02\n",
      "2048 0.01\n",
      "4096 0.03\n",
      "8192 0.04\n",
      "16384 0.09\n",
      "32768 0.17\n",
      "65536 0.35\n",
      "131072 0.83\n",
      "262144 2.05\n",
      "524288 5.16\n",
      "1048576 11.58\n",
      "2097152 25.57\n",
      "4194304 55.69\n"
     ]
    }
   ],
   "source": [
    "# solve random instances of size 2, 4, 8, 16, 32, ..., 2^22\n",
    "n_sizes = [ 2**n for n in range(1,22+1) ]\n",
    "\n",
    "print(\"n runtime\")\n",
    "for n in n_sizes:\n",
    "    runtime = solve_random_knapsack(n, v_max=n, w_max=n)\n",
    "    runtime_two_decimals = '{0:.2f}'.format( runtime )\n",
    "    print(n,runtime_two_decimals)"
   ]
  },
  {
   "cell_type": "code",
   "execution_count": null,
   "metadata": {},
   "outputs": [],
   "source": []
  }
 ],
 "metadata": {
  "kernelspec": {
   "display_name": "Python 3",
   "language": "python",
   "name": "python3"
  },
  "language_info": {
   "codemirror_mode": {
    "name": "ipython",
    "version": 3
   },
   "file_extension": ".py",
   "mimetype": "text/x-python",
   "name": "python",
   "nbconvert_exporter": "python",
   "pygments_lexer": "ipython3",
   "version": "3.7.10"
  }
 },
 "nbformat": 4,
 "nbformat_minor": 4
}
