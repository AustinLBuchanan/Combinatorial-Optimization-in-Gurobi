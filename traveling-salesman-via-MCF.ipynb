{
 "cells": [
  {
   "cell_type": "code",
   "execution_count": 1,
   "metadata": {},
   "outputs": [],
   "source": [
    "# Below is a symmetric TSP instance from: \n",
    "#   http://comopt.ifi.uni-heidelberg.de/software/TSPLIB95/\n",
    "\n",
    "bays29 = [[0,107,241,190,124,80,316,76,152,157,283,133,113,297,228,129,348,276,188,150,65,341,184,67,221,169,108,45,167],\n",
    "[107,0,148,137,88,127,336,183,134,95,254,180,101,234,175,176,265,199,182,67,42,278,271,146,251,105,191,139,79],\n",
    "[241,148,0,374,171,259,509,317,217,232,491,312,280,391,412,349,422,356,355,204,182,435,417,292,424,116,337,273,77],\n",
    "[190,137,374,0,202,234,222,192,248,42,117,287,79,107,38,121,152,86,68,70,137,151,239,135,137,242,165,228,205],\n",
    "[124,88,171,202,0,61,392,202,46,160,319,112,163,322,240,232,314,287,238,155,65,366,300,175,307,57,220,121,97],\n",
    "[80,127,259,234,61,0,386,141,72,167,351,55,157,331,272,226,362,296,232,164,85,375,249,147,301,118,188,60,185],\n",
    "[316,336,509,222,392,386,0,233,438,254,202,439,235,254,210,187,313,266,154,282,321,298,168,249,95,437,190,314,435],\n",
    "[76,183,317,192,202,141,233,0,213,188,272,193,131,302,233,98,344,289,177,216,141,346,108,57,190,245,43,81,243],\n",
    "[152,134,217,248,46,72,438,213,0,206,365,89,209,368,286,278,360,333,284,201,111,412,321,221,353,72,266,132,111],\n",
    "[157,95,232,42,160,167,254,188,206,0,159,220,57,149,80,132,193,127,100,28,95,193,241,131,169,200,161,189,163],\n",
    "[283,254,491,117,319,351,202,272,365,159,0,404,176,106,79,161,165,141,95,187,254,103,279,215,117,359,216,308,322],\n",
    "[133,180,312,287,112,55,439,193,89,220,404,0,210,384,325,279,415,349,285,217,138,428,310,200,354,169,241,112,238],\n",
    "[113,101,280,79,163,157,235,131,209,57,176,210,0,186,117,75,231,165,81,85,92,230,184,74,150,208,104,158,206],\n",
    "[297,234,391,107,322,331,254,302,368,149,106,384,186,0,69,191,59,35,125,167,255,44,309,245,169,327,246,335,288],\n",
    "[228,175,412,38,240,272,210,233,286,80,79,325,117,69,0,122,122,56,56,108,175,113,240,176,125,280,177,266,243],\n",
    "[129,176,349,121,232,226,187,98,278,132,161,279,75,191,122,0,244,178,66,160,161,235,118,62,92,277,55,155,275],\n",
    "[348,265,422,152,314,362,313,344,360,193,165,415,231,59,122,244,0,66,178,198,286,77,362,287,228,358,299,380,319],\n",
    "[276,199,356,86,287,296,266,289,333,127,141,349,165,35,56,178,66,0,112,132,220,79,296,232,181,292,233,314,253],\n",
    "[188,182,355,68,238,232,154,177,284,100,95,285,81,125,56,66,178,112,0,128,167,169,179,120,69,283,121,213,281],\n",
    "[150,67,204,70,155,164,282,216,201,28,187,217,85,167,108,160,198,132,128,0,88,211,269,159,197,172,189,182,135],\n",
    "[65,42,182,137,65,85,321,141,111,95,254,138,92,255,175,161,286,220,167,88,0,299,229,104,236,110,149,97,108],\n",
    "[341,278,435,151,366,375,298,346,412,193,103,428,230,44,113,235,77,79,169,211,299,0,353,289,213,371,290,379,332],\n",
    "[184,271,417,239,300,249,168,108,321,241,279,310,184,309,240,118,362,296,179,269,229,353,0,121,162,345,80,189,342],\n",
    "[67,146,292,135,175,147,249,57,221,131,215,200,74,245,176,62,287,232,120,159,104,289,121,0,154,220,41,93,218],\n",
    "[221,251,424,137,307,301,95,190,353,169,117,354,150,169,125,92,228,181,69,197,236,213,162,154,0,352,147,247,350],\n",
    "[169,105,116,242,57,118,437,245,72,200,359,169,208,327,280,277,358,292,283,172,110,371,345,220,352,0,265,178,39],\n",
    "[108,191,337,165,220,188,190,43,266,161,216,241,104,246,177,55,299,233,121,189,149,290,80,41,147,265,0,124,263],\n",
    "[45,139,273,228,121,60,314,81,132,189,308,112,158,335,266,155,380,314,213,182,97,379,189,93,247,178,124,0,199],\n",
    "[167,79,77,205,97,185,435,243,111,163,322,238,206,288,243,275,319,253,281,135,108,332,342,218,350,39,263,199,0]]"
   ]
  },
  {
   "cell_type": "code",
   "execution_count": 2,
   "metadata": {},
   "outputs": [],
   "source": [
    "c = bays29\n",
    "n = len(c)\n",
    "r = 0         # start tour at an arbitrary root node 'r'\n",
    "\n",
    "import networkx as nx\n",
    "\n",
    "# Complete graph on n vertices\n",
    "G = nx.complete_graph(n)\n",
    "\n",
    "# DG is directed version of G. Replaces each edge {i,j} by (i,j) and (j,i)\n",
    "DG = nx.DiGraph(G)"
   ]
  },
  {
   "cell_type": "code",
   "execution_count": 3,
   "metadata": {},
   "outputs": [],
   "source": [
    "import gurobipy as gp\n",
    "from gurobipy import GRB"
   ]
  },
  {
   "cell_type": "code",
   "execution_count": 4,
   "metadata": {},
   "outputs": [
    {
     "name": "stdout",
     "output_type": "stream",
     "text": [
      "Academic license - for non-commercial use only - expires 2021-08-27\n",
      "Using license file C:\\Users\\buchanan\\gurobi.lic\n"
     ]
    }
   ],
   "source": [
    "# Create model object\n",
    "m = gp.Model()\n",
    "\n",
    "# Create variable for each edge of DG\n",
    "x = m.addVars( DG.edges, vtype=GRB.BINARY )\n",
    "\n",
    "# Objective function: minimize cost of tour\n",
    "m.setObjective( gp.quicksum( c[i][j] * x[i,j] for i,j in DG.edges ), GRB.MINIMIZE )\n",
    "\n",
    "# Leave each city once\n",
    "m.addConstrs( gp.quicksum( x[i,j] for j in DG.neighbors(i) ) == 1 for i in DG.nodes )\n",
    "\n",
    "# Enter each city once\n",
    "m.addConstrs( gp.quicksum( x[i,j] for i in DG.neighbors(j) ) == 1 for j in DG.nodes )\n",
    "\n",
    "m.update()"
   ]
  },
  {
   "cell_type": "code",
   "execution_count": 5,
   "metadata": {},
   "outputs": [],
   "source": [
    "# ADD MCF CONSTRAINTS FOR CONTIGUITY\n",
    "\n",
    "# Create f variable for each vertex (\"commodity\") and each edge\n",
    "f = m.addVars( DG.nodes, DG.edges, vtype=GRB.CONTINUOUS )\n",
    "\n",
    "# Constraints: each node i (besides r) should consume one unit of flow *of their own type*\n",
    "for i in DG.nodes:\n",
    "    if i != r:\n",
    "        m.addConstr( gp.quicksum( f[i,j,i] - f[i,i,j] for j in DG.neighbors(i) ) == 1 )\n",
    "        m.addConstrs( gp.quicksum( f[v,j,i] - f[v,i,j] for j in DG.neighbors(i) ) == 0 for v in DG.nodes if v != i )\n",
    "\n",
    "# Constraints: flow can only cross built edges\n",
    "m.addConstrs( f[v,i,j] <= x[i,j] for i,j in DG.edges for v in DG.nodes )\n",
    "\n",
    "m.update()"
   ]
  },
  {
   "cell_type": "code",
   "execution_count": 6,
   "metadata": {},
   "outputs": [
    {
     "name": "stdout",
     "output_type": "stream",
     "text": [
      "Gurobi Optimizer version 9.1.1 build v9.1.1rc0 (win64)\n",
      "Thread count: 4 physical cores, 8 logical processors, using up to 8 threads\n",
      "Optimize a model with 24418 rows, 24360 columns and 94192 nonzeros\n",
      "Model fingerprint: 0xd1627266\n",
      "Variable types: 23548 continuous, 812 integer (812 binary)\n",
      "Coefficient statistics:\n",
      "  Matrix range     [1e+00, 1e+00]\n",
      "  Objective range  [3e+01, 5e+02]\n",
      "  Bounds range     [1e+00, 1e+00]\n",
      "  RHS range        [1e+00, 1e+00]\n",
      "Presolve removed 784 rows and 784 columns\n",
      "Presolve time: 0.37s\n",
      "Presolved: 23634 rows, 23576 columns, 91840 nonzeros\n",
      "Variable types: 22764 continuous, 812 integer (812 binary)\n",
      "Found heuristic solution: objective 8132.0000000\n",
      "Found heuristic solution: objective 5752.0000000\n",
      "\n",
      "Root relaxation: objective 2.013500e+03, 13405 iterations, 1.52 seconds\n",
      "\n",
      "    Nodes    |    Current Node    |     Objective Bounds      |     Work\n",
      " Expl Unexpl |  Obj  Depth IntInf | Incumbent    BestBd   Gap | It/Node Time\n",
      "\n",
      "     0     0 2013.50000    0   34 5752.00000 2013.50000  65.0%     -    2s\n",
      "H    0     0                    2202.0000000 2013.50000  8.56%     -    2s\n",
      "     0     0 2013.50000    0   26 2202.00000 2013.50000  8.56%     -    3s\n",
      "     0     0 2013.50000    0   34 2202.00000 2013.50000  8.56%     -    4s\n",
      "     0     0 2013.50000    0   64 2202.00000 2013.50000  8.56%     -    4s\n",
      "H    0     0                    2126.0000000 2013.50000  5.29%     -    4s\n",
      "     0     0 2017.50000    0   56 2126.00000 2017.50000  5.10%     -    5s\n",
      "     0     0 2017.50000    0   32 2126.00000 2017.50000  5.10%     -    5s\n",
      "H    0     0                    2039.0000000 2017.50000  1.05%     -    6s\n",
      "     0     0 2017.50000    0   56 2039.00000 2017.50000  1.05%     -    6s\n",
      "     0     0 2017.50000    0   29 2039.00000 2017.50000  1.05%     -    6s\n",
      "H    0     0                    2036.0000000 2017.50000  0.91%     -    6s\n",
      "H    0     0                    2033.0000000 2017.50000  0.76%     -    6s\n",
      "H    0     0                    2028.0000000 2017.50000  0.52%     -    6s\n",
      "     0     0 2017.50000    0   52 2028.00000 2017.50000  0.52%     -    6s\n",
      "*    0     0               0    2020.0000000 2020.00000  0.00%     -    6s\n",
      "\n",
      "Cutting planes:\n",
      "  Gomory: 4\n",
      "  Implied bound: 1\n",
      "  Clique: 1\n",
      "  MIR: 7\n",
      "  Zero half: 16\n",
      "  RLT: 2\n",
      "\n",
      "Explored 1 nodes (37599 simplex iterations) in 6.64 seconds\n",
      "Thread count was 8 (of 8 available processors)\n",
      "\n",
      "Solution count 9: 2020 2028 2033 ... 8132\n",
      "\n",
      "Optimal solution found (tolerance 1.00e-04)\n",
      "Best objective 2.020000000000e+03, best bound 2.020000000000e+03, gap 0.0000%\n"
     ]
    }
   ],
   "source": [
    "# Solve the MIP\n",
    "m.optimize()"
   ]
  },
  {
   "cell_type": "code",
   "execution_count": 8,
   "metadata": {},
   "outputs": [
    {
     "name": "stdout",
     "output_type": "stream",
     "text": [
      "Objective: 2020.0\n",
      "Tour: [2, 1, 19, 9, 3, 14, 17, 16, 13, 21, 10, 18, 24, 6, 22, 26, 7, 23, 15, 12, 20, 0, 27, 5, 11, 8, 4, 25, 28]\n"
     ]
    }
   ],
   "source": [
    "print(\"Objective:\",m.objVal)\n",
    "\n",
    "tour_edges = [ (i,j) for i,j in DG.edges if x[i,j].x > 0.5 ]\n",
    "\n",
    "# Get a tour by picking a chosen edge (t,s) and \n",
    "#   finding a shortest s,t-path in G[chosen_edges\\(t,s)]\n",
    "\n",
    "(t,s) = tour_edges.pop()\n",
    "\n",
    "paths = nx.single_source_shortest_path( G.edge_subgraph(tour_edges), s )\n",
    "\n",
    "print(\"Tour:\",paths[t])"
   ]
  },
  {
   "cell_type": "code",
   "execution_count": 7,
   "metadata": {},
   "outputs": [
    {
     "name": "stdout",
     "output_type": "stream",
     "text": [
      "Gurobi Optimizer version 9.1.1 build v9.1.1rc0 (win64)\n",
      "Thread count: 4 physical cores, 8 logical processors, using up to 8 threads\n",
      "Optimize a model with 24418 rows, 24360 columns and 94192 nonzeros\n",
      "Model fingerprint: 0x9e1d5f89\n",
      "Coefficient statistics:\n",
      "  Matrix range     [1e+00, 1e+00]\n",
      "  Objective range  [3e+01, 5e+02]\n",
      "  Bounds range     [1e+00, 1e+00]\n",
      "  RHS range        [1e+00, 1e+00]\n",
      "\n",
      "Concurrent LP optimizer: dual simplex and barrier\n",
      "Showing barrier log only...\n",
      "\n",
      "Presolve removed 1 rows and 0 columns\n",
      "Presolve time: 0.07s\n",
      "Presolved: 24417 rows, 24360 columns, 94164 nonzeros\n",
      "\n",
      "Ordering time: 0.10s\n",
      "\n",
      "Barrier statistics:\n",
      " AA' NZ     : 4.332e+05\n",
      " Factor NZ  : 2.096e+06 (roughly 40 MBytes of memory)\n",
      " Factor Ops : 3.474e+08 (less than 1 second per iteration)\n",
      " Threads    : 3\n",
      "\n",
      "                  Objective                Residual\n",
      "Iter       Primal          Dual         Primal    Dual     Compl     Time\n",
      "   0   4.53097836e+04  0.00000000e+00  6.58e+00 0.00e+00  9.58e+00     0s\n",
      "   1   8.67216123e+03 -2.39011948e+04  4.92e-01 5.12e-13  1.18e+00     0s\n",
      "   2   5.56624881e+03 -4.23680590e+03  9.53e-03 4.41e-13  2.04e-01     0s\n",
      "   3   4.16762707e+03  1.03077403e+03  4.24e-04 4.33e-13  6.45e-02     0s\n",
      "   4   3.01167311e+03  1.79370522e+03  9.73e-05 2.90e-12  2.51e-02     0s\n",
      "   5   2.55071172e+03  1.94895696e+03  4.81e-05 4.16e-12  1.24e-02     1s\n",
      "   6   2.28232674e+03  1.97814228e+03  2.25e-05 5.36e-12  6.27e-03     1s\n",
      "   7   2.10108430e+03  1.99354031e+03  6.69e-06 1.95e-12  2.22e-03     1s\n",
      "   8   2.04111451e+03  2.00917535e+03  1.96e-06 1.39e-11  6.59e-04     1s\n",
      "   9   2.01537618e+03  2.01327947e+03  1.19e-07 5.39e-12  4.33e-05     1s\n",
      "  10   2.01350380e+03  2.01349978e+03  1.33e-10 7.71e-12  8.28e-08     1s\n",
      "  11   2.01350000e+03  2.01350000e+03  2.35e-12 8.55e-12  8.28e-11     1s\n",
      "\n",
      "Barrier solved model in 11 iterations and 0.72 seconds\n",
      "Optimal objective 2.01350000e+03\n",
      "\n",
      "Crossover log...\n",
      "\n",
      "   22101 DPushes remaining with DInf 0.0000000e+00                 1s\n",
      "       0 DPushes remaining with DInf 0.0000000e+00                 1s\n",
      "\n",
      "     368 PPushes remaining with PInf 0.0000000e+00                 1s\n",
      "       0 PPushes remaining with PInf 0.0000000e+00                 1s\n",
      "\n",
      "  Push phase complete: Pinf 0.0000000e+00, Dinf 0.0000000e+00      1s\n",
      "\n",
      "Iteration    Objective       Primal Inf.    Dual Inf.      Time\n",
      "    9697    2.0135000e+03   0.000000e+00   0.000000e+00      1s\n",
      "\n",
      "Solved with barrier\n",
      "Solved in 9697 iterations and 0.88 seconds\n",
      "Optimal objective  2.013500000e+03\n"
     ]
    }
   ],
   "source": [
    "# Solve the root LP relaxation\n",
    "r = m.relax()\n",
    "r.optimize()"
   ]
  },
  {
   "cell_type": "code",
   "execution_count": null,
   "metadata": {},
   "outputs": [],
   "source": []
  }
 ],
 "metadata": {
  "kernelspec": {
   "display_name": "Python 3",
   "language": "python",
   "name": "python3"
  },
  "language_info": {
   "codemirror_mode": {
    "name": "ipython",
    "version": 3
   },
   "file_extension": ".py",
   "mimetype": "text/x-python",
   "name": "python",
   "nbconvert_exporter": "python",
   "pygments_lexer": "ipython3",
   "version": "3.7.10"
  }
 },
 "nbformat": 4,
 "nbformat_minor": 4
}
